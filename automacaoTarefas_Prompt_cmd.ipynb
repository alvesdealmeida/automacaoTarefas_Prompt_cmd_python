{
 "cells": [
  {
   "cell_type": "code",
   "execution_count": 19,
   "id": "2f9d1d4e",
   "metadata": {},
   "outputs": [],
   "source": [
    "import pyautogui\n",
    "import time\n",
    "import pyperclip\n",
    "\n",
    "pyautogui.PAUSE = 1\n",
    "\n",
    "pyautogui.press(\"winleft\")\n",
    "pyautogui.write(\"cmd\")\n",
    "pyautogui.press(\"enter\")\n",
    "\n",
    "pyautogui.write(\"dir\")\n",
    "pyautogui.press(\"enter\")\n",
    "pyautogui.write(\"cls\")\n",
    "pyautogui.press(\"enter\")\n",
    "pyautogui.write(\"cls\")\n",
    "pyautogui.press(\"enter\")\n",
    "pyautogui.write(\"cd Desktop\")\n",
    "pyautogui.press(\"enter\")\n",
    "pyautogui.write(\"dir\")\n",
    "pyautogui.press(\"enter\")\n",
    "\n",
    "pyautogui.write(\"xcopy notas.csv c:\\\\Users\\\\salvesa\\\\Desktop\\\\AndroidStudio\")\n",
    "pyautogui.press(\"enter\")\n",
    "\n",
    "pyautogui.write(\"xcopy teste2.py c:\\\\Users\\\\salvesa\\\\Desktop\\\\AndroidStudio\")\n",
    "pyautogui.press(\"enter\")\n",
    "\n",
    "pyautogui.write(\"xcopy teste1.py c:\\\\Users\\\\salvesa\\\\Desktop\\\\AndroidStudio\")\n",
    "pyautogui.press(\"enter\")\n",
    "\n",
    "pyautogui.write(\"xcopy teste.py c:\\\\Users\\\\salvesa\\\\Desktop\\\\AndroidStudio\")\n",
    "pyautogui.press(\"enter\")\n",
    "\n",
    "                                            \n",
    "pyautogui.write(\"xcopy sena2.py c:\\\\Users\\\\salvesa\\\\Desktop\\\\AndroidStudio\")\n",
    "pyautogui.press(\"enter\")\n",
    "\n",
    "pyautogui.write(\"xcopy palavra.py c:\\\\Users\\\\salvesa\\\\Desktop\\\\AndroidStudio\")\n",
    "pyautogui.press(\"enter\")\n",
    "\n",
    "pyautogui.write(\"xcopy ordena.py c:\\\\Users\\\\salvesa\\\\Desktop\\\\AndroidStudio\")\n",
    "pyautogui.press(\"enter\")\n",
    "\n",
    "pyautogui.write(\"xcopy modelo.ods c:\\\\Users\\\\salvesa\\\\Desktop\\\\AndroidStudio\")\n",
    "pyautogui.press(\"enter\")\n",
    "\n",
    "pyautogui.write(\"xcopy MEGASENA_INDIVIDUAL.csv c:\\\\Users\\\\salvesa\\\\Desktop\\\\AndroidStudio\")\n",
    "pyautogui.press(\"enter\")\n",
    "\n",
    "pyautogui.write(\"xcopy escolha.py c:\\\\Users\\\\salvesa\\\\Desktop\\\\AndroidStudio\")\n",
    "pyautogui.press(\"enter\")\n",
    "\n",
    "pyautogui.write(\"xcopy sebas.jpg c:\\\\Users\\\\salvesa\\\\Desktop\\\\AndroidStudio\")\n",
    "pyautogui.press(\"enter\")\n",
    "\n",
    "pyautogui.write(\"cls\")\n",
    "pyautogui.press(\"enter\")\n",
    "\n",
    "pyautogui.write(\"cd ..\")\n",
    "pyautogui.press(\"enter\")\n",
    "\n",
    "pyautogui.write(\"exit\")\n",
    "pyautogui.press(\"enter\")"
   ]
  },
  {
   "cell_type": "code",
   "execution_count": null,
   "id": "0356c902",
   "metadata": {},
   "outputs": [],
   "source": []
  },
  {
   "cell_type": "code",
   "execution_count": null,
   "id": "94f66c18",
   "metadata": {},
   "outputs": [],
   "source": []
  },
  {
   "cell_type": "code",
   "execution_count": 16,
   "id": "8698ec3d",
   "metadata": {},
   "outputs": [
    {
     "data": {
      "text/plain": [
       "Point(x=1105, y=201)"
      ]
     },
     "execution_count": 16,
     "metadata": {},
     "output_type": "execute_result"
    }
   ],
   "source": [
    "#teste de espaço\n",
    "time.sleep(7)\n",
    "pyautogui.position()"
   ]
  },
  {
   "cell_type": "code",
   "execution_count": null,
   "id": "ee4d5767",
   "metadata": {},
   "outputs": [],
   "source": []
  }
 ],
 "metadata": {
  "kernelspec": {
   "display_name": "Python 3",
   "language": "python",
   "name": "python3"
  },
  "language_info": {
   "codemirror_mode": {
    "name": "ipython",
    "version": 3
   },
   "file_extension": ".py",
   "mimetype": "text/x-python",
   "name": "python",
   "nbconvert_exporter": "python",
   "pygments_lexer": "ipython3",
   "version": "3.8.8"
  }
 },
 "nbformat": 4,
 "nbformat_minor": 5
}
